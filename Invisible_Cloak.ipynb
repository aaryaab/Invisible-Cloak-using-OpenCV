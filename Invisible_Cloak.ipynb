{
 "cells": [
  {
   "cell_type": "code",
   "execution_count": null,
   "metadata": {
    "colab": {},
    "colab_type": "code",
    "id": "qR1IxKAQ-aPY"
   },
   "outputs": [],
   "source": [
    "import cv2\n",
    "import time\n",
    "import numpy as np\n",
    "\n",
    "#recording video from webcam\n",
    "\n",
    "camera=cv2.VideoCapture(0)\n",
    "#For final outcome\n",
    "frame_width = int(camera.get(3))\n",
    "frame_height = int(camera.get(4))\n",
    "\n",
    "out =cv2.VideoWriter('output.avi',cv2.VideoWriter_fourcc('M','J','P','G'), 10, (frame_width,frame_height))\n",
    "#time for webcamera to sleep(5s) before it works \n",
    "\n",
    "time.sleep(5)\n",
    "count=0\n",
    "background=0\n",
    "\n",
    "#capturing background which will work as invisible cloak\n",
    "        \n",
    "for i in range(60):\n",
    "  ret,background=camera.read()\n",
    "\n",
    "background =np.flip(background,axis=1)  \n",
    "\n",
    "# reading the frame from camera, till it is open\n",
    "\n",
    "while(camera.isOpened()):\n",
    "  ret,img=camera.read()\n",
    "  if not ret:\n",
    "    break\n",
    "  count+=1\n",
    "  # laterally flipping the image\n",
    "  img=np.flip(img,axis=1)  \n",
    "  # converting RGB to HSV\n",
    "  hsv=cv2.cvtColor(img,cv2.COLOR_BGR2HSV)\n",
    "  # Generating mask to detect Red Color\n",
    "  #Range for Lower Red\n",
    "  lower_red=np.array([0,125,50])\n",
    "  upper_red=np.array([10,255,255])\n",
    "  mask1=cv2.inRange(hsv,lower_red,upper_red)\n",
    "\n",
    "  #Range for Upper Red\n",
    "  lower_red=np.array([170,120,70])\n",
    "  upper_red=np.array([180,255,255])\n",
    "  mask2=cv2.inRange(hsv,lower_red,upper_red)\n",
    "  mask1 = mask1+mask2\n",
    "\n",
    "  mask1 = cv2.morphologyEx(mask1, cv2.MORPH_OPEN, np.ones((3, 3), np.uint8)) \n",
    "  #Dilate the mask image\n",
    "  mask1=cv2.morphologyEx(mask1,cv2.MORPH_DILATE,np.ones((3,3),np.uint8))\n",
    "\n",
    "  # Creating an inverted Mask to segment out the red color from the image\n",
    "  mask2=cv2.bitwise_not(mask1)\n",
    "\n",
    "  # Segmenting the cloth out of the frame using bitwise and inverted mask\n",
    "  res1=cv2.bitwise_and(img,img,mask=mask2)\n",
    "\n",
    "  # Creating image showing static background pixels by pixels only for the masked region\n",
    "  res2=cv2.bitwise_and(background,background,mask=mask1)\n",
    "\n",
    " #Generating final output\n",
    "\n",
    "  op=cv2.addWeighted(res1,1,res2,1,0)\n",
    "  out.write(op)\n",
    "  cv2.imshow(\"ABRACADABRA\",op)\n",
    "  cv2.waitKey(1)\n",
    "\n",
    "camera.release()\n",
    "out.release()\n",
    "cv2.destroyAllWindows()  "
   ]
  },
  {
   "cell_type": "code",
   "execution_count": null,
   "metadata": {
    "colab": {},
    "colab_type": "code",
    "id": "Y_ZRcghvG1Hn"
   },
   "outputs": [],
   "source": []
  }
 ],
 "metadata": {
  "colab": {
   "name": "Invisible Cloak.ipynb",
   "provenance": []
  },
  "kernelspec": {
   "display_name": "Python 3",
   "language": "python",
   "name": "python3"
  },
  "language_info": {
   "codemirror_mode": {
    "name": "ipython",
    "version": 3
   },
   "file_extension": ".py",
   "mimetype": "text/x-python",
   "name": "python",
   "nbconvert_exporter": "python",
   "pygments_lexer": "ipython3",
   "version": "3.7.3"
  }
 },
 "nbformat": 4,
 "nbformat_minor": 2
}
